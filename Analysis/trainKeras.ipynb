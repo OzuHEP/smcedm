{
 "cells": [
  {
   "cell_type": "code",
   "execution_count": 1,
   "metadata": {},
   "outputs": [
    {
     "name": "stdout",
     "output_type": "stream",
     "text": [
      "Welcome to JupyROOT 6.18/04\n"
     ]
    },
    {
     "name": "stderr",
     "output_type": "stream",
     "text": [
      "Using TensorFlow backend.\n",
      "/home/bora/.local/lib/python3.6/site-packages/tensorflow/python/framework/dtypes.py:516: FutureWarning: Passing (type, 1) or '1type' as a synonym of type is deprecated; in a future version of numpy, it will be understood as (type, (1,)) / '(1,)type'.\n",
      "  _np_qint8 = np.dtype([(\"qint8\", np.int8, 1)])\n",
      "/home/bora/.local/lib/python3.6/site-packages/tensorflow/python/framework/dtypes.py:517: FutureWarning: Passing (type, 1) or '1type' as a synonym of type is deprecated; in a future version of numpy, it will be understood as (type, (1,)) / '(1,)type'.\n",
      "  _np_quint8 = np.dtype([(\"quint8\", np.uint8, 1)])\n",
      "/home/bora/.local/lib/python3.6/site-packages/tensorflow/python/framework/dtypes.py:518: FutureWarning: Passing (type, 1) or '1type' as a synonym of type is deprecated; in a future version of numpy, it will be understood as (type, (1,)) / '(1,)type'.\n",
      "  _np_qint16 = np.dtype([(\"qint16\", np.int16, 1)])\n",
      "/home/bora/.local/lib/python3.6/site-packages/tensorflow/python/framework/dtypes.py:519: FutureWarning: Passing (type, 1) or '1type' as a synonym of type is deprecated; in a future version of numpy, it will be understood as (type, (1,)) / '(1,)type'.\n",
      "  _np_quint16 = np.dtype([(\"quint16\", np.uint16, 1)])\n",
      "/home/bora/.local/lib/python3.6/site-packages/tensorflow/python/framework/dtypes.py:520: FutureWarning: Passing (type, 1) or '1type' as a synonym of type is deprecated; in a future version of numpy, it will be understood as (type, (1,)) / '(1,)type'.\n",
      "  _np_qint32 = np.dtype([(\"qint32\", np.int32, 1)])\n",
      "/home/bora/.local/lib/python3.6/site-packages/tensorflow/python/framework/dtypes.py:525: FutureWarning: Passing (type, 1) or '1type' as a synonym of type is deprecated; in a future version of numpy, it will be understood as (type, (1,)) / '(1,)type'.\n",
      "  np_resource = np.dtype([(\"resource\", np.ubyte, 1)])\n",
      "/home/bora/.local/lib/python3.6/site-packages/tensorboard/compat/tensorflow_stub/dtypes.py:541: FutureWarning: Passing (type, 1) or '1type' as a synonym of type is deprecated; in a future version of numpy, it will be understood as (type, (1,)) / '(1,)type'.\n",
      "  _np_qint8 = np.dtype([(\"qint8\", np.int8, 1)])\n",
      "/home/bora/.local/lib/python3.6/site-packages/tensorboard/compat/tensorflow_stub/dtypes.py:542: FutureWarning: Passing (type, 1) or '1type' as a synonym of type is deprecated; in a future version of numpy, it will be understood as (type, (1,)) / '(1,)type'.\n",
      "  _np_quint8 = np.dtype([(\"quint8\", np.uint8, 1)])\n",
      "/home/bora/.local/lib/python3.6/site-packages/tensorboard/compat/tensorflow_stub/dtypes.py:543: FutureWarning: Passing (type, 1) or '1type' as a synonym of type is deprecated; in a future version of numpy, it will be understood as (type, (1,)) / '(1,)type'.\n",
      "  _np_qint16 = np.dtype([(\"qint16\", np.int16, 1)])\n",
      "/home/bora/.local/lib/python3.6/site-packages/tensorboard/compat/tensorflow_stub/dtypes.py:544: FutureWarning: Passing (type, 1) or '1type' as a synonym of type is deprecated; in a future version of numpy, it will be understood as (type, (1,)) / '(1,)type'.\n",
      "  _np_quint16 = np.dtype([(\"quint16\", np.uint16, 1)])\n",
      "/home/bora/.local/lib/python3.6/site-packages/tensorboard/compat/tensorflow_stub/dtypes.py:545: FutureWarning: Passing (type, 1) or '1type' as a synonym of type is deprecated; in a future version of numpy, it will be understood as (type, (1,)) / '(1,)type'.\n",
      "  _np_qint32 = np.dtype([(\"qint32\", np.int32, 1)])\n",
      "/home/bora/.local/lib/python3.6/site-packages/tensorboard/compat/tensorflow_stub/dtypes.py:550: FutureWarning: Passing (type, 1) or '1type' as a synonym of type is deprecated; in a future version of numpy, it will be understood as (type, (1,)) / '(1,)type'.\n",
      "  np_resource = np.dtype([(\"resource\", np.ubyte, 1)])\n"
     ]
    }
   ],
   "source": [
    "import matplotlib.pyplot as plt\n",
    "import math\n",
    "import numpy as np\n",
    "import ROOT, uproot\n",
    "from sklearn.model_selection import train_test_split\n",
    "from sklearn import preprocessing\n",
    "from sklearn import feature_selection\n",
    "from sklearn.model_selection import StratifiedKFold\n",
    "import pandas as pd\n",
    "import seaborn as sns\n",
    "from sklearn.utils import class_weight\n",
    "\n",
    "# import necessary keras modules/functions\n",
    "import keras\n",
    "from keras.models import load_model\n",
    "from keras.models import Sequential, Model\n",
    "from keras.layers import Input, Flatten, Dense, Dropout, MaxPooling2D\n",
    "from keras.layers import BatchNormalization, Activation, AveragePooling2D, Concatenate\n",
    "from keras import regularizers\n",
    "from keras.constraints import max_norm\n",
    "\n",
    "from keras.callbacks import TensorBoard\n",
    "\n",
    "from time import time"
   ]
  },
  {
   "cell_type": "code",
   "execution_count": 2,
   "metadata": {},
   "outputs": [
    {
     "name": "stdout",
     "output_type": "stream",
     "text": [
      "23304 515858 1173\n"
     ]
    },
    {
     "data": {
      "text/plain": [
       "1173"
      ]
     },
     "execution_count": 2,
     "metadata": {},
     "output_type": "execute_result"
    }
   ],
   "source": [
    "df_signal = uproot.open(\"/mnt/harddisk4/scratch/signal_dtG1_delphes.root\")[\"outtree\"].pandas.df(\"*\")\n",
    "df_dyjets = uproot.open(\"/mnt/harddisk4/scratch/dyjets_delphes.root\")[\"outtree\"].pandas.df(\"*\")\n",
    "df_wjets  = uproot.open(\"/mnt/harddisk4/scratch/wjets_delphes.root\")[\"outtree\"].pandas.df(\"*\")\n",
    "n_events_to_be_used = min(len(df_dyjets),len(df_signal),len(df_wjets))\n",
    "print(len(df_dyjets),len(df_signal),len(df_wjets))\n",
    "n_events_to_be_used"
   ]
  },
  {
   "cell_type": "code",
   "execution_count": 3,
   "metadata": {},
   "outputs": [
    {
     "data": {
      "text/plain": [
       "Index(['br_weight', 'br_njets', 'br_nleptons', 'br_nbjets', 'br_scalar_HT',\n",
       "       'br_jet_pt_1', 'br_jet_pt_2', 'br_jet_pt_3', 'br_jet_pt_4', 'br_MET',\n",
       "       'br_MET_Phi', 'br_sphericity', 'br_aplanarity', 'br_Fox_Wolfram_1',\n",
       "       'br_Fox_Wolfram_2', 'br_Fox_Wolfram_3', 'br_Fox_Wolfram_4'],\n",
       "      dtype='object')"
      ]
     },
     "execution_count": 3,
     "metadata": {},
     "output_type": "execute_result"
    }
   ],
   "source": [
    "df_signal.columns"
   ]
  },
  {
   "cell_type": "code",
   "execution_count": 4,
   "metadata": {},
   "outputs": [],
   "source": [
    "branches = ['br_njets', 'br_nleptons', 'br_nbjets', 'br_scalar_HT',\n",
    "       'br_jet_pt_1', 'br_jet_pt_2', 'br_jet_pt_3', 'br_jet_pt_4', 'br_MET',\n",
    "       'br_MET_Phi', 'br_sphericity', 'br_aplanarity', 'br_Fox_Wolfram_1',\n",
    "       'br_Fox_Wolfram_2', 'br_Fox_Wolfram_3', 'br_Fox_Wolfram_4']"
   ]
  },
  {
   "cell_type": "code",
   "execution_count": 5,
   "metadata": {},
   "outputs": [],
   "source": [
    "df_signal = uproot.open(\"/mnt/harddisk4/scratch/signal_dtG1_delphes.root\")[\"outtree\"].pandas.df(branches, entrystop=n_events_to_be_used)\n",
    "df_dyjets = uproot.open(\"/mnt/harddisk4/scratch/dyjets_delphes.root\")[\"outtree\"].pandas.df(branches, entrystop=n_events_to_be_used)\n",
    "df_wjets  = uproot.open(\"/mnt/harddisk4/scratch/wjets_delphes.root\")[\"outtree\"].pandas.df(branches, entrystop=n_events_to_be_used)"
   ]
  },
  {
   "cell_type": "code",
   "execution_count": 6,
   "metadata": {},
   "outputs": [],
   "source": [
    "x_signal = df_signal.values\n",
    "y_signal = np.full(len(x_signal) , 1)\n",
    "x_dyjets = df_dyjets.values\n",
    "x_wjets  = df_wjets.values\n",
    "x_bkg    = np.concatenate((x_dyjets, x_wjets), axis=0)\n",
    "y_bkg    = np.full(len(x_bkg) , 0)"
   ]
  },
  {
   "cell_type": "code",
   "execution_count": 7,
   "metadata": {},
   "outputs": [],
   "source": [
    "x = np.concatenate((x_signal, x_bkg), axis=0)\n",
    "y = np.concatenate((y_signal, y_bkg), axis=0)"
   ]
  },
  {
   "cell_type": "code",
   "execution_count": 8,
   "metadata": {},
   "outputs": [],
   "source": [
    "x_train_unscaled, x_test_unscaled, y_train, y_test = train_test_split(x, y, test_size=0.2, random_state=20)\n",
    "#y_train = keras.utils.to_categorical(y_train, 2)\n",
    "#y_test  = keras.utils.to_categorical(y_test, 2)"
   ]
  },
  {
   "cell_type": "code",
   "execution_count": 9,
   "metadata": {},
   "outputs": [],
   "source": [
    "scaler  = preprocessing.StandardScaler().fit(x)\n",
    "x_train = scaler.transform(x_train_unscaled)\n",
    "x_test  = scaler.transform(x_test_unscaled)"
   ]
  },
  {
   "cell_type": "code",
   "execution_count": 10,
   "metadata": {},
   "outputs": [],
   "source": [
    "model = Sequential()\n",
    "model.add(Dense(128, activation='relu'))\n",
    "model.add(Dense(128, activation='sigmoid'))\n",
    "model.add(Dense(1,   activation='sigmoid'))\n",
    "model.compile(loss=keras.losses.mean_squared_error , optimizer=keras.optimizers.Adam(), metrics=['accuracy'])"
   ]
  },
  {
   "cell_type": "code",
   "execution_count": 11,
   "metadata": {
    "scrolled": true
   },
   "outputs": [
    {
     "name": "stdout",
     "output_type": "stream",
     "text": [
      "WARNING:tensorflow:From /home/bora/.local/lib/python3.6/site-packages/keras/backend/tensorflow_backend.py:422: The name tf.global_variables is deprecated. Please use tf.compat.v1.global_variables instead.\n",
      "\n",
      "Train on 2815 samples, validate on 704 samples\n",
      "Epoch 1/20\n",
      "2815/2815 [==============================] - 1s 191us/step - loss: 0.1913 - accuracy: 0.6771 - val_loss: 0.1347 - val_accuracy: 0.8196\n",
      "Epoch 2/20\n",
      "2815/2815 [==============================] - 0s 90us/step - loss: 0.1102 - accuracy: 0.8597 - val_loss: 0.1016 - val_accuracy: 0.8651\n",
      "Epoch 3/20\n",
      "2815/2815 [==============================] - 0s 92us/step - loss: 0.0922 - accuracy: 0.8796 - val_loss: 0.0952 - val_accuracy: 0.8764\n",
      "Epoch 4/20\n",
      "2815/2815 [==============================] - 0s 91us/step - loss: 0.0882 - accuracy: 0.8828 - val_loss: 0.0943 - val_accuracy: 0.8750\n",
      "Epoch 5/20\n",
      "2815/2815 [==============================] - 0s 86us/step - loss: 0.0866 - accuracy: 0.8845 - val_loss: 0.0935 - val_accuracy: 0.8764\n",
      "Epoch 6/20\n",
      "2815/2815 [==============================] - 0s 88us/step - loss: 0.0855 - accuracy: 0.8856 - val_loss: 0.0934 - val_accuracy: 0.8764\n",
      "Epoch 7/20\n",
      "2815/2815 [==============================] - 0s 88us/step - loss: 0.0846 - accuracy: 0.8867 - val_loss: 0.0930 - val_accuracy: 0.8736\n",
      "Epoch 8/20\n",
      "2815/2815 [==============================] - 0s 85us/step - loss: 0.0837 - accuracy: 0.8881 - val_loss: 0.0927 - val_accuracy: 0.8778\n",
      "Epoch 9/20\n",
      "2815/2815 [==============================] - 0s 85us/step - loss: 0.0836 - accuracy: 0.8877 - val_loss: 0.0925 - val_accuracy: 0.8778\n",
      "Epoch 10/20\n",
      "2815/2815 [==============================] - 0s 85us/step - loss: 0.0831 - accuracy: 0.8877 - val_loss: 0.0925 - val_accuracy: 0.8750\n",
      "Epoch 11/20\n",
      "2815/2815 [==============================] - 0s 86us/step - loss: 0.0823 - accuracy: 0.8906 - val_loss: 0.0929 - val_accuracy: 0.8750\n",
      "Epoch 12/20\n",
      "2815/2815 [==============================] - 0s 87us/step - loss: 0.0830 - accuracy: 0.8892 - val_loss: 0.0930 - val_accuracy: 0.8722\n",
      "Epoch 13/20\n",
      "2815/2815 [==============================] - 0s 86us/step - loss: 0.0816 - accuracy: 0.8892 - val_loss: 0.0924 - val_accuracy: 0.8778\n",
      "Epoch 14/20\n",
      "2815/2815 [==============================] - 0s 86us/step - loss: 0.0809 - accuracy: 0.8909 - val_loss: 0.0956 - val_accuracy: 0.8679\n",
      "Epoch 15/20\n",
      "2815/2815 [==============================] - 0s 87us/step - loss: 0.0821 - accuracy: 0.8877 - val_loss: 0.0929 - val_accuracy: 0.8764\n",
      "Epoch 16/20\n",
      "2815/2815 [==============================] - 0s 85us/step - loss: 0.0806 - accuracy: 0.8927 - val_loss: 0.0920 - val_accuracy: 0.8778\n",
      "Epoch 17/20\n",
      "2815/2815 [==============================] - 0s 85us/step - loss: 0.0808 - accuracy: 0.8885 - val_loss: 0.0914 - val_accuracy: 0.8679\n",
      "Epoch 18/20\n",
      "2815/2815 [==============================] - 0s 89us/step - loss: 0.0806 - accuracy: 0.8920 - val_loss: 0.0924 - val_accuracy: 0.8764\n",
      "Epoch 19/20\n",
      "2815/2815 [==============================] - 0s 87us/step - loss: 0.0804 - accuracy: 0.8874 - val_loss: 0.0919 - val_accuracy: 0.8736\n",
      "Epoch 20/20\n",
      "2815/2815 [==============================] - 0s 87us/step - loss: 0.0798 - accuracy: 0.8913 - val_loss: 0.0910 - val_accuracy: 0.8778\n"
     ]
    },
    {
     "name": "stderr",
     "output_type": "stream",
     "text": [
      "2020-05-06 18:49:22.577157: I tensorflow/core/platform/cpu_feature_guard.cc:142] Your CPU supports instructions that this TensorFlow binary was not compiled to use: AVX2 AVX512F FMA\n",
      "2020-05-06 18:49:22.589790: I tensorflow/stream_executor/platform/default/dso_loader.cc:42] Successfully opened dynamic library libcuda.so.1\n",
      "2020-05-06 18:49:22.710285: I tensorflow/compiler/xla/service/service.cc:168] XLA service 0x92b72a0 executing computations on platform CUDA. Devices:\n",
      "2020-05-06 18:49:22.710341: I tensorflow/compiler/xla/service/service.cc:175]   StreamExecutor device (0): Quadro RTX 5000, Compute Capability 7.5\n",
      "2020-05-06 18:49:22.738165: I tensorflow/core/platform/profile_utils/cpu_utils.cc:94] CPU Frequency: 2600000000 Hz\n",
      "2020-05-06 18:49:22.743922: I tensorflow/compiler/xla/service/service.cc:168] XLA service 0x890e930 executing computations on platform Host. Devices:\n",
      "2020-05-06 18:49:22.743963: I tensorflow/compiler/xla/service/service.cc:175]   StreamExecutor device (0): <undefined>, <undefined>\n",
      "2020-05-06 18:49:22.746440: I tensorflow/core/common_runtime/gpu/gpu_device.cc:1640] Found device 0 with properties: \n",
      "name: Quadro RTX 5000 major: 7 minor: 5 memoryClockRate(GHz): 1.815\n",
      "pciBusID: 0000:2d:00.0\n",
      "2020-05-06 18:49:22.747051: I tensorflow/stream_executor/platform/default/dso_loader.cc:42] Successfully opened dynamic library libcudart.so.10.0\n",
      "2020-05-06 18:49:22.750109: I tensorflow/stream_executor/platform/default/dso_loader.cc:42] Successfully opened dynamic library libcublas.so.10.0\n",
      "2020-05-06 18:49:22.752616: I tensorflow/stream_executor/platform/default/dso_loader.cc:42] Successfully opened dynamic library libcufft.so.10.0\n",
      "2020-05-06 18:49:22.753293: I tensorflow/stream_executor/platform/default/dso_loader.cc:42] Successfully opened dynamic library libcurand.so.10.0\n",
      "2020-05-06 18:49:22.755734: I tensorflow/stream_executor/platform/default/dso_loader.cc:42] Successfully opened dynamic library libcusolver.so.10.0\n",
      "2020-05-06 18:49:22.757623: I tensorflow/stream_executor/platform/default/dso_loader.cc:42] Successfully opened dynamic library libcusparse.so.10.0\n",
      "2020-05-06 18:49:22.763587: I tensorflow/stream_executor/platform/default/dso_loader.cc:42] Successfully opened dynamic library libcudnn.so.7\n",
      "2020-05-06 18:49:22.765652: I tensorflow/core/common_runtime/gpu/gpu_device.cc:1763] Adding visible gpu devices: 0\n",
      "2020-05-06 18:49:22.765712: I tensorflow/stream_executor/platform/default/dso_loader.cc:42] Successfully opened dynamic library libcudart.so.10.0\n",
      "2020-05-06 18:49:22.767519: I tensorflow/core/common_runtime/gpu/gpu_device.cc:1181] Device interconnect StreamExecutor with strength 1 edge matrix:\n",
      "2020-05-06 18:49:22.767530: I tensorflow/core/common_runtime/gpu/gpu_device.cc:1187]      0 \n",
      "2020-05-06 18:49:22.767535: I tensorflow/core/common_runtime/gpu/gpu_device.cc:1200] 0:   N \n",
      "2020-05-06 18:49:22.769420: I tensorflow/core/common_runtime/gpu/gpu_device.cc:1326] Created TensorFlow device (/job:localhost/replica:0/task:0/device:GPU:0 with 13910 MB memory) -> physical GPU (device: 0, name: Quadro RTX 5000, pci bus id: 0000:2d:00.0, compute capability: 7.5)\n",
      "2020-05-06 18:49:23.551303: I tensorflow/stream_executor/platform/default/dso_loader.cc:42] Successfully opened dynamic library libcublas.so.10.0\n"
     ]
    }
   ],
   "source": [
    "history = model.fit(x_train, y_train, epochs=20, batch_size=2**6,  verbose=1, validation_data=(x_test, y_test))"
   ]
  },
  {
   "cell_type": "code",
   "execution_count": 66,
   "metadata": {},
   "outputs": [
    {
     "name": "stdout",
     "output_type": "stream",
     "text": [
      "Model: \"sequential_19\"\n",
      "_________________________________________________________________\n",
      "Layer (type)                 Output Shape              Param #   \n",
      "=================================================================\n",
      "dense_57 (Dense)             (None, 128)               2176      \n",
      "_________________________________________________________________\n",
      "dense_58 (Dense)             (None, 128)               16512     \n",
      "_________________________________________________________________\n",
      "dense_59 (Dense)             (None, 1)                 129       \n",
      "=================================================================\n",
      "Total params: 18,817\n",
      "Trainable params: 18,817\n",
      "Non-trainable params: 0\n",
      "_________________________________________________________________\n"
     ]
    }
   ],
   "source": [
    "model.summary()"
   ]
  },
  {
   "cell_type": "code",
   "execution_count": null,
   "metadata": {},
   "outputs": [],
   "source": []
  }
 ],
 "metadata": {
  "kernelspec": {
   "display_name": "Python 3",
   "language": "python",
   "name": "python3"
  },
  "language_info": {
   "codemirror_mode": {
    "name": "ipython",
    "version": 3
   },
   "file_extension": ".py",
   "mimetype": "text/x-python",
   "name": "python",
   "nbconvert_exporter": "python",
   "pygments_lexer": "ipython3",
   "version": "3.6.9"
  }
 },
 "nbformat": 4,
 "nbformat_minor": 2
}
